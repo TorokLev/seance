{
 "cells": [
  {
   "cell_type": "code",
   "execution_count": 1,
   "metadata": {
    "collapsed": true
   },
   "outputs": [],
   "source": [
    "# CNTK 2.1 installálása Anaconda 3 alá itt található:\n",
    "# https://docs.microsoft.com/en-us/cognitive-toolkit/setup-windows-python?tabs=cntkpy21\n",
    "from IPython.display import Image\n",
    "import matplotlib.pyplot as plt\n",
    "import numpy as np\n",
    "import os\n",
    "import cntk as C"
   ]
  },
  {
   "cell_type": "code",
   "execution_count": 2,
   "metadata": {
    "collapsed": true
   },
   "outputs": [],
   "source": [
    "# ha nincs megfelelő videókártya, vagy CUDA 8 támogatás, akkor csak CPU fog menni.\n",
    "# Ekkor a batch noramlizációs változatok nem működnek\n",
    "isGPUEnabled = True\n",
    "if isGPUEnabled == True:\n",
    "    C.device.try_set_default_device(C.device.gpu(0))\n",
    "else:\n",
    "    C.device.try_set_default_device(C.device.cpu())"
   ]
  },
  {
   "cell_type": "code",
   "execution_count": 3,
   "metadata": {
    "collapsed": true
   },
   "outputs": [],
   "source": [
    "# ahol a notebookhoz képest az adatbázis van, azt kell itt referálni\n",
    "data_path = os.path.join('..','Examples','Image', 'Datasets','CarsDemo')\n",
    "# model dimenziói\n",
    "image_height = 36\n",
    "image_width  = 36\n",
    "num_channels = 3\n",
    "num_classes  = 2\n",
    "\n",
    "import cntk.io.transforms as xforms \n",
    "#\n",
    "# Ezzel olvasható be a tréning és a teszt adat\n",
    "#\n",
    "def create_reader(map_file, train):\n",
    "    print(\"Reading map file:\", map_file)\n",
    "    \n",
    "    if not os.path.exists(map_file):\n",
    "        raise RuntimeError(\"This tutorials depends...\")\n",
    "\n",
    "    transforms = []\n",
    "    # tréning során laterálisan augmentálunk\n",
    "    if train:\n",
    "        transforms += [\n",
    "            xforms.crop(crop_type='randomside', side_ratio=0.75) \n",
    "        ]\n",
    "    else:\n",
    "        transforms += [\n",
    "            xforms.crop(crop_type='center', side_ratio=0.75) \n",
    "        ]\n",
    "    transforms += [\n",
    "        xforms.scale(width=image_width, height=image_height, channels=num_channels, interpolations='linear')\n",
    "    ]\n",
    "    # deserializer\n",
    "    return C.io.MinibatchSource(C.io.ImageDeserializer(map_file, C.io.StreamDefs(\n",
    "        features = C.io.StreamDef(field='image', transforms=transforms), # first column in map file is referred to as 'image'\n",
    "        labels   = C.io.StreamDef(field='label', shape=num_classes)      # and second as 'label'\n",
    "    )))"
   ]
  },
  {
   "cell_type": "code",
   "execution_count": 4,
   "metadata": {},
   "outputs": [
    {
     "name": "stdout",
     "output_type": "stream",
     "text": [
      "Reading map file: ..\\Examples\\Image\\Datasets\\CarsDemo\\car_training.txt\n",
      "Reading map file: ..\\Examples\\Image\\Datasets\\CarsDemo\\car_testing.txt\n"
     ]
    }
   ],
   "source": [
    "# Readerek létrehozása\n",
    "# Az eredeti adatbázis itt található:\n",
    "# http://academictorrents.com/details/210dfc51f11dcfced602ad226962b7590e08c50a\n",
    "reader_train = create_reader(os.path.join(data_path, 'car_training.txt'), True)\n",
    "reader_test  = create_reader(os.path.join(data_path, 'car_testing.txt'), False) "
   ]
  },
  {
   "cell_type": "code",
   "execution_count": 5,
   "metadata": {
    "collapsed": true
   },
   "outputs": [],
   "source": [
    "#\n",
    "# Hálózat tanítása és tesztelése\n",
    "#\n",
    "def train_and_evaluate(reader_train, reader_test, max_epochs, model_func):\n",
    "    # Input variables denoting the features and label data\n",
    "    input_var = C.input_variable((num_channels, image_height, image_width))\n",
    "    label_var = C.input_variable((num_classes))\n",
    "    # Normalize the input\n",
    "    feature_scale = 1.0 / 256.0\n",
    "    input_var_norm = C.element_times(feature_scale, input_var, name=\"features\")  \n",
    "    # apply model to input\n",
    "    z = model_func(input_var_norm, out_dims = 2)\n",
    "\n",
    "    # Training action\n",
    "\n",
    "    # loss and metric\n",
    "    ce = C.cross_entropy_with_softmax(z, label_var)\n",
    "    pe = C.classification_error(z, label_var)\n",
    "    # training config\n",
    "    epoch_size     = 84227\n",
    "    minibatch_size = 64\n",
    "    # Set training parameters\n",
    "    lr_per_minibatch       = C.learning_rate_schedule([0.01]*5 + [0.003]*5 + [0.001]*5 + [0.0003]*5 +[0.0001]*5 + [0.00003]*5 +[0.00001], \n",
    "                                                      C.UnitType.sample, epoch_size)\n",
    "    #momentum_time_constant = C.momentum_as_time_constant_schedule(-minibatch_size/np.log(0.9))\n",
    "    momentum_time_constant = C.momentum_schedule(0.9)\n",
    "    l2_reg_weight          = 0.001\n",
    "    \n",
    "    # trainer object\n",
    "    learner = C.momentum_sgd(z.parameters, \n",
    "                             lr = lr_per_minibatch, \n",
    "                             momentum = momentum_time_constant, \n",
    "                             l2_regularization_weight=l2_reg_weight)\n",
    "    progress_printer = C.logging.ProgressPrinter(tag='Training', num_epochs=max_epochs)\n",
    "    trainer = C.Trainer(z, (ce, pe), [learner], [progress_printer])\n",
    "\n",
    "    # define mapping from reader streams to network inputs\n",
    "    input_map = {\n",
    "        input_var: reader_train.streams.features,\n",
    "        label_var: reader_train.streams.labels\n",
    "    }\n",
    "\n",
    "    C.logging.log_number_of_parameters(z) ; print()\n",
    "\n",
    "    # perform model training\n",
    "    batch_index = 0\n",
    "    plot_data = {'batchindex':[], 'loss':[], 'error':[]}\n",
    "    for epoch in range(max_epochs):       # loop over epochs\n",
    "        sample_count = 0\n",
    "        while sample_count < epoch_size:  # loop over minibatches in the epoch\n",
    "            data = reader_train.next_minibatch(min(minibatch_size, epoch_size - sample_count), \n",
    "                                               input_map=input_map) # fetch minibatch.\n",
    "            trainer.train_minibatch(data)                                   # update model with it\n",
    "\n",
    "            sample_count += data[label_var].num_samples                     # count samples processed so far\n",
    "            \n",
    "            # For visualization...            \n",
    "            plot_data['batchindex'].append(batch_index)\n",
    "            plot_data['loss'].append(trainer.previous_minibatch_loss_average)\n",
    "            plot_data['error'].append(trainer.previous_minibatch_evaluation_average)\n",
    "            \n",
    "            batch_index += 1\n",
    "        trainer.summarize_training_progress()\n",
    "        \n",
    "    # Evaluation action\n",
    "    \n",
    "    epoch_size     = 21057\n",
    "    minibatch_size = 512\n",
    "\n",
    "    # process minibatches and evaluate the model\n",
    "    metric_numer    = 0\n",
    "    metric_denom    = 0\n",
    "    sample_count    = 0\n",
    "    minibatch_index = 0\n",
    "\n",
    "    while sample_count < epoch_size:\n",
    "        current_minibatch = min(minibatch_size, epoch_size - sample_count)\n",
    "\n",
    "        # Fetch next test min batch.\n",
    "        data = reader_test.next_minibatch(current_minibatch, input_map=input_map)\n",
    "\n",
    "        # minibatch data to be trained with\n",
    "        metric_numer += trainer.test_minibatch(data) * current_minibatch\n",
    "        metric_denom += current_minibatch\n",
    "\n",
    "        # Keep track of the number of samples processed so far.\n",
    "        sample_count += data[label_var].num_samples\n",
    "        minibatch_index += 1\n",
    "\n",
    "    print(\"\")\n",
    "    print(\"Final Results: Minibatch[1-{}]: errs = {:0.1f}% * {}\".format(minibatch_index+1, (metric_numer*100.0)/metric_denom, metric_denom))\n",
    "    print(\"\")\n",
    "    \n",
    "    # Visualize training result:\n",
    "    window_width            = 32\n",
    "    loss_cumsum             = np.cumsum(np.insert(plot_data['loss'], 0, 0)) \n",
    "    error_cumsum            = np.cumsum(np.insert(plot_data['error'], 0, 0)) \n",
    "\n",
    "    # Moving average.\n",
    "    plot_data['batchindex'] = np.insert(plot_data['batchindex'], 0, 0)[window_width:]\n",
    "    plot_data['avg_loss']   = (loss_cumsum[window_width:] - loss_cumsum[:-window_width]) / window_width\n",
    "    plot_data['avg_error']  = (error_cumsum[window_width:] - error_cumsum[:-window_width]) / window_width\n",
    "    \n",
    "    plt.figure(1)\n",
    "    plt.subplot(211)\n",
    "    plt.plot(plot_data[\"batchindex\"], plot_data[\"avg_loss\"], 'b--')\n",
    "    plt.xlabel('Minibatch number')\n",
    "    plt.ylabel('Loss')\n",
    "    plt.title('Minibatch run vs. Training loss ')\n",
    "\n",
    "    plt.show()\n",
    "\n",
    "    plt.subplot(212)\n",
    "    plt.plot(plot_data[\"batchindex\"], plot_data[\"avg_error\"], 'r--')\n",
    "    plt.xlabel('Minibatch number')\n",
    "    plt.ylabel('Label Prediction Error')\n",
    "    plt.title('Minibatch run vs. Label Prediction Error ')\n",
    "    plt.show()\n",
    "    \n",
    "    return C.softmax(z)"
   ]
  },
  {
   "cell_type": "code",
   "execution_count": 6,
   "metadata": {
    "collapsed": true
   },
   "outputs": [],
   "source": [
    "# Klasszikus CNN minden pedantéria nélkül\n",
    "def create_basic_model(input, out_dims):\n",
    "    with C.layers.default_options(init=C.glorot_uniform(), activation=C.relu):\n",
    "        net = C.layers.Convolution((3,3), 8, pad=True)(input)\n",
    "        net = C.layers.MaxPooling((3,3), strides=(2,2))(net)\n",
    "        net = C.layers.Convolution((3,3), 16, pad=True)(net)\n",
    "        net = C.layers.MaxPooling((3,3), strides=(2,2))(net)\n",
    "        net = C.layers.Convolution((3,3), 32, pad=True)(net)\n",
    "        net = C.layers.MaxPooling((3,3), strides=(2,2))(net)\n",
    "        net = C.layers.Dense(32)(net)\n",
    "        net = C.layers.Dense(out_dims, activation=None)(net)\n",
    "    return net"
   ]
  },
  {
   "cell_type": "code",
   "execution_count": 7,
   "metadata": {
    "collapsed": true
   },
   "outputs": [],
   "source": [
    "# CNN batch normalizációval\n",
    "def create_basic_model_with_batch_normalization(input, out_dims):\n",
    "    with C.layers.default_options(activation = C.relu, init = C.glorot_uniform()):\n",
    "        model = C.layers.Sequential([\n",
    "            C.layers.For(range(3), lambda i: [\n",
    "                C.layers.Convolution((3,3), [8,16,32][i], pad = True),\n",
    "                C.layers.BatchNormalization(map_rank = 1),\n",
    "                C.layers.MaxPooling((3,3), strides = (2,2))\n",
    "            ]),\n",
    "            C.layers.Dense(32),\n",
    "            C.layers.Dense(out_dims, activation = None)\n",
    "        ])\n",
    "    return model(input)"
   ]
  },
  {
   "cell_type": "code",
   "execution_count": 8,
   "metadata": {
    "scrolled": true
   },
   "outputs": [
    {
     "name": "stdout",
     "output_type": "stream",
     "text": [
      "  Output (2,)\n",
      "  CF2 (2, 1, 1)\n",
      "  CF1 (32, 1, 1)\n",
      "  MP32 (32, 4, 4)\n",
      "  BN32 (32, 9, 9)\n",
      "  C3 (32, 9, 9)\n",
      "  BN13 (32, 9, 9)\n",
      "  C3 (32, 9, 9)\n",
      "  MP22 (16, 9, 9)\n",
      "  BN22 (16, 18, 18)\n",
      "  C2 (16, 18, 18)\n",
      "  BN12 (16, 18, 18)\n",
      "  C2 (16, 18, 18)\n",
      "  MP1 (8, 18, 18)\n",
      "  BN1 (8, 36, 36)\n",
      "  C1 (8, 36, 36)\n",
      "  features (3, 36, 36)\n"
     ]
    }
   ],
   "source": [
    "# VGG like modell, de indításkor egy konvolúcióval és minden conv után batch normalizációval.\n",
    "# Kimenet csak egy dense layeren keresztül, mert nincs sok komoly összefüggés\n",
    "def create_vgg9_model(input, out_dims):\n",
    "    with C.layers.default_options(activation=C.relu, init=C.glorot_uniform()):\n",
    "        model = C.layers.Sequential([\n",
    "            C.layers.Convolution((3,3), 8, pad=True, name='C1'),\n",
    "            C.layers.BatchNormalization(map_rank = 1, name='BN1'),\n",
    "            C.layers.MaxPooling((2,2), strides=(2,2), name='MP1'),\n",
    "            C.layers.For(range(2), lambda i: [\n",
    "                C.layers.Convolution((3,3), [16,32][i], pad=True, name='C'+str(i+2)),\n",
    "                C.layers.BatchNormalization(map_rank = 1, name='BN1'+str(i+2)),\n",
    "                C.layers.Convolution((3,3), [16,32][i], pad=True, name='C'+str(i+2)),\n",
    "                C.layers.BatchNormalization(map_rank = 1, name='BN'+str(i+2)+'2'),\n",
    "                C.layers.MaxPooling((2,2), strides=(2,2), name='MP'+str(i+2)+'2')\n",
    "            ]),\n",
    "            C.layers.Convolution((4,4), 32, pad=False, name='CF1'),\n",
    "            C.layers.Convolution((1,1), 2, pad=False, name='CF2'),\n",
    "            C.layers.Dense(out_dims, activation=None, name='Output')\n",
    "        ])\n",
    "    return model(input)\n",
    "\n",
    "node_outputs = C.logging.get_node_outputs(create_vgg9_model(C.element_times(1/256.0, C.input_variable((3, 36, 36)), name=\"features\")  ,2))\n",
    "for l in node_outputs: print(\"  {0} {1}\".format(l.name, l.shape))"
   ]
  },
  {
   "cell_type": "code",
   "execution_count": 9,
   "metadata": {
    "collapsed": true
   },
   "outputs": [],
   "source": [
    "# Az RNN-hez pár definiált segédfüggvény\n",
    "def convolution_bn(input, filter_size, num_filters, strides=(1,1), init=C.he_normal(), activation=C.relu):\n",
    "    if activation is None:\n",
    "        activation = lambda x: x\n",
    "        \n",
    "    r = C.layers.Convolution(filter_size, \n",
    "                             num_filters, \n",
    "                             strides=strides, \n",
    "                             init=init, \n",
    "                             activation=None, \n",
    "                             pad=True, bias=False)(input)\n",
    "    r = C.layers.BatchNormalization(map_rank=1)(r)\n",
    "    r = activation(r)\n",
    "    return r\n",
    "\n",
    "def resnet_basic(input, num_filters):\n",
    "    c1 = convolution_bn(input, (3,3), num_filters)\n",
    "    c2 = convolution_bn(c1, (3,3), num_filters, activation=None)\n",
    "    p  = c2 + input\n",
    "    return C.relu(p)\n",
    "\n",
    "def resnet_basic_inc(input, num_filters):\n",
    "    c1 = convolution_bn(input, (3,3), num_filters, strides=(2,2))\n",
    "    c2 = convolution_bn(c1, (3,3), num_filters, activation=None)\n",
    "    s = convolution_bn(input, (1,1), num_filters, strides=(2,2), activation=None)\n",
    "    p = c2 + s\n",
    "    return C.relu(p)\n",
    "\n",
    "def resnet_basic_stack(input, num_filters, num_stack):\n",
    "    assert (num_stack > 0)\n",
    "    r = input\n",
    "    for _ in range(num_stack):\n",
    "        r = resnet_basic(r, num_filters)\n",
    "    return r"
   ]
  },
  {
   "cell_type": "code",
   "execution_count": 10,
   "metadata": {
    "collapsed": true
   },
   "outputs": [],
   "source": [
    "# RNN háló a végén a MS ajánlásával egy averagepool\n",
    "def create_resnet_model(input, out_dims):\n",
    "    conv = convolution_bn(input, (3,3), 8)\n",
    "    r1_1 = resnet_basic_stack(conv, 8, 3)\n",
    "    r2_1 = resnet_basic_inc(r1_1, 16)\n",
    "    r2_2 = resnet_basic_stack(r2_1, 16, 3)\n",
    "    r3_1 = resnet_basic_inc(r2_2, 32)\n",
    "    r3_2 = resnet_basic_stack(r3_1, 32, 3)\n",
    "    r4_1 = resnet_basic_inc(r3_2, 64)\n",
    "    r4_2 = resnet_basic_stack(r4_1, 64, 3)\n",
    "    # Global average pooling\n",
    "    pool = C.layers.AveragePooling(filter_shape=(4,4), strides=(1,1))(r4_2)\n",
    "    net = C.layers.Dense(out_dims, init=C.he_normal(), activation=None)(pool)   \n",
    "    return net"
   ]
  },
  {
   "cell_type": "code",
   "execution_count": 11,
   "metadata": {},
   "outputs": [
    {
     "name": "stdout",
     "output_type": "stream",
     "text": [
      "Training 15346 parameters in 10 parameter tensors.\n",
      "\n",
      "Learning rate per sample: 0.01\n",
      "Momentum per minibatch: 0.9\n",
      "Finished Epoch[1 of 40]: [Training] loss = 0.419075 * 84227, metric = 20.18% * 84227 14.712s (5725.1 samples/s);\n",
      "Finished Epoch[2 of 40]: [Training] loss = 0.351949 * 84227, metric = 16.13% * 84227 7.470s (11275.4 samples/s);\n",
      "Finished Epoch[3 of 40]: [Training] loss = 0.341414 * 84227, metric = 15.51% * 84227 7.637s (11028.8 samples/s);\n",
      "Finished Epoch[4 of 40]: [Training] loss = 0.329185 * 84227, metric = 14.85% * 84227 7.336s (11481.3 samples/s);\n",
      "Finished Epoch[5 of 40]: [Training] loss = 0.333363 * 84227, metric = 15.09% * 84227 7.376s (11419.1 samples/s);\n",
      "Learning rate per sample: 0.003\n",
      "Finished Epoch[6 of 40]: [Training] loss = 0.272681 * 84227, metric = 11.95% * 84227 7.536s (11176.6 samples/s);\n",
      "Finished Epoch[7 of 40]: [Training] loss = 0.257544 * 84227, metric = 11.17% * 84227 7.884s (10683.3 samples/s);\n",
      "Finished Epoch[8 of 40]: [Training] loss = 0.255775 * 84227, metric = 11.00% * 84227 7.723s (10906.0 samples/s);\n",
      "Finished Epoch[9 of 40]: [Training] loss = 0.254144 * 84227, metric = 10.75% * 84227 7.395s (11389.7 samples/s);\n",
      "Finished Epoch[10 of 40]: [Training] loss = 0.247765 * 84227, metric = 10.51% * 84227 8.012s (10512.6 samples/s);\n",
      "Learning rate per sample: 0.001\n",
      "Finished Epoch[11 of 40]: [Training] loss = 0.219649 * 84227, metric = 9.23% * 84227 7.543s (11166.2 samples/s);\n",
      "Finished Epoch[12 of 40]: [Training] loss = 0.212685 * 84227, metric = 8.94% * 84227 7.832s (10754.2 samples/s);\n",
      "Finished Epoch[13 of 40]: [Training] loss = 0.213604 * 84227, metric = 8.96% * 84227 7.573s (11122.0 samples/s);\n",
      "Finished Epoch[14 of 40]: [Training] loss = 0.209308 * 84227, metric = 8.71% * 84227 7.882s (10686.0 samples/s);\n",
      "Finished Epoch[15 of 40]: [Training] loss = 0.207460 * 84227, metric = 8.63% * 84227 7.529s (11187.0 samples/s);\n",
      "Learning rate per sample: 0.0003\n",
      "Finished Epoch[16 of 40]: [Training] loss = 0.190443 * 84227, metric = 7.86% * 84227 7.839s (10744.6 samples/s);\n",
      "Finished Epoch[17 of 40]: [Training] loss = 0.189097 * 84227, metric = 7.76% * 84227 7.556s (11147.0 samples/s);\n",
      "Finished Epoch[18 of 40]: [Training] loss = 0.188871 * 84227, metric = 7.69% * 84227 7.877s (10692.8 samples/s);\n",
      "Finished Epoch[19 of 40]: [Training] loss = 0.187596 * 84227, metric = 7.70% * 84227 7.484s (11254.3 samples/s);\n",
      "Finished Epoch[20 of 40]: [Training] loss = 0.188203 * 84227, metric = 7.71% * 84227 7.747s (10872.2 samples/s);\n",
      "Learning rate per sample: 0.0001\n",
      "Finished Epoch[21 of 40]: [Training] loss = 0.179522 * 84227, metric = 7.30% * 84227 7.490s (11245.3 samples/s);\n",
      "Finished Epoch[22 of 40]: [Training] loss = 0.181160 * 84227, metric = 7.40% * 84227 7.845s (10736.4 samples/s);\n",
      "Finished Epoch[23 of 40]: [Training] loss = 0.178405 * 84227, metric = 7.18% * 84227 7.474s (11269.3 samples/s);\n",
      "Finished Epoch[24 of 40]: [Training] loss = 0.178715 * 84227, metric = 7.20% * 84227 7.759s (10855.4 samples/s);\n",
      "Finished Epoch[25 of 40]: [Training] loss = 0.176857 * 84227, metric = 7.23% * 84227 7.478s (11263.3 samples/s);\n",
      "Learning rate per sample: 3e-05\n",
      "Finished Epoch[26 of 40]: [Training] loss = 0.177244 * 84227, metric = 7.17% * 84227 7.882s (10686.0 samples/s);\n",
      "Finished Epoch[27 of 40]: [Training] loss = 0.176811 * 84227, metric = 7.19% * 84227 8.744s (9632.5 samples/s);\n",
      "Finished Epoch[28 of 40]: [Training] loss = 0.175886 * 84227, metric = 7.11% * 84227 9.114s (9241.5 samples/s);\n",
      "Finished Epoch[29 of 40]: [Training] loss = 0.176328 * 84227, metric = 7.14% * 84227 8.944s (9417.2 samples/s);\n",
      "Finished Epoch[30 of 40]: [Training] loss = 0.174749 * 84227, metric = 7.10% * 84227 9.171s (9184.1 samples/s);\n",
      "Learning rate per sample: 1e-05\n",
      "Finished Epoch[31 of 40]: [Training] loss = 0.174356 * 84227, metric = 7.09% * 84227 9.355s (9003.4 samples/s);\n",
      "Finished Epoch[32 of 40]: [Training] loss = 0.174061 * 84227, metric = 7.00% * 84227 9.535s (8833.5 samples/s);\n",
      "Finished Epoch[33 of 40]: [Training] loss = 0.175616 * 84227, metric = 7.06% * 84227 9.077s (9279.2 samples/s);\n",
      "Finished Epoch[34 of 40]: [Training] loss = 0.172982 * 84227, metric = 6.99% * 84227 9.302s (9054.7 samples/s);\n",
      "Finished Epoch[35 of 40]: [Training] loss = 0.173861 * 84227, metric = 7.11% * 84227 9.434s (8928.0 samples/s);\n",
      "Finished Epoch[36 of 40]: [Training] loss = 0.173218 * 84227, metric = 6.94% * 84227 8.793s (9578.9 samples/s);\n",
      "Finished Epoch[37 of 40]: [Training] loss = 0.174830 * 84227, metric = 7.17% * 84227 9.502s (8864.1 samples/s);\n",
      "Finished Epoch[38 of 40]: [Training] loss = 0.173026 * 84227, metric = 6.97% * 84227 9.221s (9134.3 samples/s);\n",
      "Finished Epoch[39 of 40]: [Training] loss = 0.174150 * 84227, metric = 7.06% * 84227 9.514s (8853.0 samples/s);\n",
      "Finished Epoch[40 of 40]: [Training] loss = 0.175923 * 84227, metric = 7.18% * 84227 9.517s (8850.2 samples/s);\n",
      "\n",
      "Final Results: Minibatch[1-43]: errs = 6.3% * 21057\n",
      "\n"
     ]
    },
    {
     "data": {
      "image/png": "[encoded data removed]",
      "text/plain": [
       "<matplotlib.figure.Figure at 0x1c9d43dd208>"
      ]
     },
     "metadata": {},
     "output_type": "display_data"
    },
    {
     "data": {
      "image/png": "[encoded data removed]",
      "text/plain": [
       "<matplotlib.figure.Figure at 0x1c992b09b00>"
      ]
     },
     "metadata": {},
     "output_type": "display_data"
    }
   ],
   "source": [
    "pred = train_and_evaluate(reader_train, \n",
    "                          reader_test, \n",
    "                          max_epochs = 40, \n",
    "                          model_func = create_basic_model)"
   ]
  },
  {
   "cell_type": "code",
   "execution_count": 12,
   "metadata": {},
   "outputs": [
    {
     "name": "stdout",
     "output_type": "stream",
     "text": [
      "Training 15458 parameters in 16 parameter tensors.\n",
      "\n",
      "Learning rate per sample: 0.01\n",
      "Momentum per minibatch: 0.9\n",
      "Finished Epoch[1 of 40]: [Training] loss = 0.386441 * 84227, metric = 17.92% * 84227 8.803s (9568.0 samples/s);\n",
      "Finished Epoch[2 of 40]: [Training] loss = 0.302735 * 84227, metric = 13.37% * 84227 9.657s (8721.9 samples/s);\n",
      "Finished Epoch[3 of 40]: [Training] loss = 0.274566 * 84227, metric = 11.80% * 84227 9.899s (8508.6 samples/s);\n",
      "Finished Epoch[4 of 40]: [Training] loss = 0.259743 * 84227, metric = 11.06% * 84227 9.712s (8672.5 samples/s);\n",
      "Finished Epoch[5 of 40]: [Training] loss = 0.259187 * 84227, metric = 10.93% * 84227 10.120s (8322.8 samples/s);\n",
      "Learning rate per sample: 0.003\n",
      "Finished Epoch[6 of 40]: [Training] loss = 0.203235 * 84227, metric = 8.35% * 84227 9.498s (8867.9 samples/s);\n",
      "Finished Epoch[7 of 40]: [Training] loss = 0.193805 * 84227, metric = 7.96% * 84227 9.626s (8749.9 samples/s);\n",
      "Finished Epoch[8 of 40]: [Training] loss = 0.191078 * 84227, metric = 7.86% * 84227 9.247s (9108.6 samples/s);\n",
      "Finished Epoch[9 of 40]: [Training] loss = 0.191689 * 84227, metric = 7.85% * 84227 9.344s (9014.0 samples/s);\n",
      "Finished Epoch[10 of 40]: [Training] loss = 0.190226 * 84227, metric = 7.75% * 84227 10.169s (8282.7 samples/s);\n",
      "Learning rate per sample: 0.001\n",
      "Finished Epoch[11 of 40]: [Training] loss = 0.161289 * 84227, metric = 6.50% * 84227 9.326s (9031.4 samples/s);\n",
      "Finished Epoch[12 of 40]: [Training] loss = 0.157718 * 84227, metric = 6.28% * 84227 9.903s (8505.2 samples/s);\n",
      "Finished Epoch[13 of 40]: [Training] loss = 0.156877 * 84227, metric = 6.20% * 84227 9.197s (9158.1 samples/s);\n",
      "Finished Epoch[14 of 40]: [Training] loss = 0.155971 * 84227, metric = 6.29% * 84227 9.306s (9050.8 samples/s);\n",
      "Finished Epoch[15 of 40]: [Training] loss = 0.156141 * 84227, metric = 6.26% * 84227 9.624s (8751.8 samples/s);\n",
      "Learning rate per sample: 0.0003\n",
      "Finished Epoch[16 of 40]: [Training] loss = 0.143194 * 84227, metric = 5.66% * 84227 9.664s (8715.5 samples/s);\n",
      "Finished Epoch[17 of 40]: [Training] loss = 0.138404 * 84227, metric = 5.51% * 84227 10.261s (8208.5 samples/s);\n",
      "Finished Epoch[18 of 40]: [Training] loss = 0.136661 * 84227, metric = 5.33% * 84227 10.855s (7759.3 samples/s);\n",
      "Finished Epoch[19 of 40]: [Training] loss = 0.137890 * 84227, metric = 5.44% * 84227 9.663s (8716.4 samples/s);\n",
      "Finished Epoch[20 of 40]: [Training] loss = 0.136549 * 84227, metric = 5.34% * 84227 10.105s (8335.2 samples/s);\n",
      "Learning rate per sample: 0.0001\n",
      "Finished Epoch[21 of 40]: [Training] loss = 0.131330 * 84227, metric = 5.19% * 84227 9.624s (8751.8 samples/s);\n",
      "Finished Epoch[22 of 40]: [Training] loss = 0.129723 * 84227, metric = 5.09% * 84227 9.862s (8540.6 samples/s);\n",
      "Finished Epoch[23 of 40]: [Training] loss = 0.127991 * 84227, metric = 5.07% * 84227 9.875s (8529.3 samples/s);\n",
      "Finished Epoch[24 of 40]: [Training] loss = 0.128260 * 84227, metric = 5.07% * 84227 9.616s (8759.0 samples/s);\n",
      "Finished Epoch[25 of 40]: [Training] loss = 0.128463 * 84227, metric = 4.92% * 84227 9.917s (8493.2 samples/s);\n",
      "Learning rate per sample: 3e-05\n",
      "Finished Epoch[26 of 40]: [Training] loss = 0.124138 * 84227, metric = 4.83% * 84227 9.703s (8680.5 samples/s);\n",
      "Finished Epoch[27 of 40]: [Training] loss = 0.124587 * 84227, metric = 4.88% * 84227 9.779s (8613.0 samples/s);\n",
      "Finished Epoch[28 of 40]: [Training] loss = 0.124923 * 84227, metric = 4.89% * 84227 9.896s (8511.2 samples/s);\n",
      "Finished Epoch[29 of 40]: [Training] loss = 0.124524 * 84227, metric = 4.85% * 84227 9.748s (8640.4 samples/s);\n",
      "Finished Epoch[30 of 40]: [Training] loss = 0.122576 * 84227, metric = 4.74% * 84227 9.934s (8478.7 samples/s);\n",
      "Learning rate per sample: 1e-05\n",
      "Finished Epoch[31 of 40]: [Training] loss = 0.123651 * 84227, metric = 4.84% * 84227 9.936s (8477.0 samples/s);\n",
      "Finished Epoch[32 of 40]: [Training] loss = 0.122452 * 84227, metric = 4.74% * 84227 9.331s (9026.6 samples/s);\n",
      "Finished Epoch[33 of 40]: [Training] loss = 0.122528 * 84227, metric = 4.78% * 84227 9.586s (8786.5 samples/s);\n",
      "Finished Epoch[34 of 40]: [Training] loss = 0.124242 * 84227, metric = 4.91% * 84227 9.414s (8947.0 samples/s);\n",
      "Finished Epoch[35 of 40]: [Training] loss = 0.122593 * 84227, metric = 4.71% * 84227 9.665s (8714.6 samples/s);\n",
      "Finished Epoch[36 of 40]: [Training] loss = 0.121889 * 84227, metric = 4.70% * 84227 10.446s (8063.1 samples/s);\n",
      "Finished Epoch[37 of 40]: [Training] loss = 0.123031 * 84227, metric = 4.73% * 84227 9.330s (9027.5 samples/s);\n",
      "Finished Epoch[38 of 40]: [Training] loss = 0.121973 * 84227, metric = 4.83% * 84227 9.617s (8758.1 samples/s);\n",
      "Finished Epoch[39 of 40]: [Training] loss = 0.123282 * 84227, metric = 4.69% * 84227 9.436s (8926.1 samples/s);\n",
      "Finished Epoch[40 of 40]: [Training] loss = 0.122557 * 84227, metric = 4.80% * 84227 9.743s (8644.9 samples/s);\n",
      "\n",
      "Final Results: Minibatch[1-43]: errs = 4.2% * 21057\n",
      "\n"
     ]
    },
    {
     "data": {
      "image/png": "[encoded data removed]",
      "text/plain": [
       "<matplotlib.figure.Figure at 0x1c9d32fcf60>"
      ]
     },
     "metadata": {},
     "output_type": "display_data"
    },
    {
     "data": {
      "image/png": "[encoded data removed]",
      "text/plain": [
       "<matplotlib.figure.Figure at 0x1c9816ead68>"
      ]
     },
     "metadata": {},
     "output_type": "display_data"
    }
   ],
   "source": [
    "pred_basic_model_bn = train_and_evaluate(reader_train, \n",
    "                                         reader_test, \n",
    "                                         max_epochs=40, \n",
    "                                         model_func=create_basic_model_with_batch_normalization)"
   ]
  },
  {
   "cell_type": "code",
   "execution_count": 13,
   "metadata": {},
   "outputs": [
    {
     "name": "stdout",
     "output_type": "stream",
     "text": [
      "Training 34296 parameters in 26 parameter tensors.\n",
      "\n",
      "Learning rate per sample: 0.01\n",
      "Momentum per minibatch: 0.9\n",
      "Finished Epoch[1 of 40]: [Training] loss = 0.357659 * 84227, metric = 16.16% * 84227 9.283s (9073.3 samples/s);\n",
      "Finished Epoch[2 of 40]: [Training] loss = 0.250942 * 84227, metric = 10.28% * 84227 10.931s (7705.3 samples/s);\n",
      "Finished Epoch[3 of 40]: [Training] loss = 0.225345 * 84227, metric = 9.17% * 84227 10.729s (7850.4 samples/s);\n",
      "Finished Epoch[4 of 40]: [Training] loss = 0.223312 * 84227, metric = 9.16% * 84227 10.153s (8295.8 samples/s);\n",
      "Finished Epoch[5 of 40]: [Training] loss = 0.220387 * 84227, metric = 8.94% * 84227 10.463s (8050.0 samples/s);\n",
      "Learning rate per sample: 0.003\n",
      "Finished Epoch[6 of 40]: [Training] loss = 0.161712 * 84227, metric = 6.32% * 84227 10.501s (8020.9 samples/s);\n",
      "Finished Epoch[7 of 40]: [Training] loss = 0.151008 * 84227, metric = 5.85% * 84227 10.667s (7896.0 samples/s);\n",
      "Finished Epoch[8 of 40]: [Training] loss = 0.150569 * 84227, metric = 5.81% * 84227 11.666s (7219.9 samples/s);\n",
      "Finished Epoch[9 of 40]: [Training] loss = 0.147003 * 84227, metric = 5.73% * 84227 10.690s (7879.0 samples/s);\n",
      "Finished Epoch[10 of 40]: [Training] loss = 0.150124 * 84227, metric = 5.79% * 84227 10.247s (8219.7 samples/s);\n",
      "Learning rate per sample: 0.001\n",
      "Finished Epoch[11 of 40]: [Training] loss = 0.118113 * 84227, metric = 4.42% * 84227 11.106s (7583.9 samples/s);\n",
      "Finished Epoch[12 of 40]: [Training] loss = 0.110910 * 84227, metric = 4.13% * 84227 10.433s (8073.1 samples/s);\n",
      "Finished Epoch[13 of 40]: [Training] loss = 0.111271 * 84227, metric = 4.12% * 84227 10.305s (8173.4 samples/s);\n",
      "Finished Epoch[14 of 40]: [Training] loss = 0.112946 * 84227, metric = 4.13% * 84227 10.638s (7917.6 samples/s);\n",
      "Finished Epoch[15 of 40]: [Training] loss = 0.111265 * 84227, metric = 4.16% * 84227 10.686s (7882.0 samples/s);\n",
      "Learning rate per sample: 0.0003\n",
      "Finished Epoch[16 of 40]: [Training] loss = 0.097155 * 84227, metric = 3.55% * 84227 10.395s (8102.6 samples/s);\n",
      "Finished Epoch[17 of 40]: [Training] loss = 0.091331 * 84227, metric = 3.22% * 84227 10.654s (7905.7 samples/s);\n",
      "Finished Epoch[18 of 40]: [Training] loss = 0.090352 * 84227, metric = 3.25% * 84227 10.708s (7865.8 samples/s);\n",
      "Finished Epoch[19 of 40]: [Training] loss = 0.090565 * 84227, metric = 3.26% * 84227 9.002s (9356.5 samples/s);\n",
      "Finished Epoch[20 of 40]: [Training] loss = 0.088671 * 84227, metric = 3.20% * 84227 10.473s (8042.3 samples/s);\n",
      "Learning rate per sample: 0.0001\n",
      "Finished Epoch[21 of 40]: [Training] loss = 0.083714 * 84227, metric = 2.99% * 84227 10.953s (7689.9 samples/s);\n",
      "Finished Epoch[22 of 40]: [Training] loss = 0.081385 * 84227, metric = 2.92% * 84227 10.290s (8185.3 samples/s);\n",
      "Finished Epoch[23 of 40]: [Training] loss = 0.081797 * 84227, metric = 2.93% * 84227 10.443s (8065.4 samples/s);\n",
      "Finished Epoch[24 of 40]: [Training] loss = 0.080277 * 84227, metric = 2.87% * 84227 10.432s (8073.9 samples/s);\n",
      "Finished Epoch[25 of 40]: [Training] loss = 0.080273 * 84227, metric = 2.84% * 84227 10.334s (8150.5 samples/s);\n",
      "Learning rate per sample: 3e-05\n",
      "Finished Epoch[26 of 40]: [Training] loss = 0.079025 * 84227, metric = 2.84% * 84227 10.558s (7977.6 samples/s);\n",
      "Finished Epoch[27 of 40]: [Training] loss = 0.078090 * 84227, metric = 2.74% * 84227 10.567s (7970.8 samples/s);\n",
      "Finished Epoch[28 of 40]: [Training] loss = 0.078563 * 84227, metric = 2.83% * 84227 10.235s (8229.3 samples/s);\n",
      "Finished Epoch[29 of 40]: [Training] loss = 0.076550 * 84227, metric = 2.73% * 84227 10.530s (7998.8 samples/s);\n",
      "Finished Epoch[30 of 40]: [Training] loss = 0.077828 * 84227, metric = 2.78% * 84227 10.414s (8087.9 samples/s);\n",
      "Learning rate per sample: 1e-05\n",
      "Finished Epoch[31 of 40]: [Training] loss = 0.076424 * 84227, metric = 2.68% * 84227 10.370s (8122.2 samples/s);\n",
      "Finished Epoch[32 of 40]: [Training] loss = 0.075953 * 84227, metric = 2.67% * 84227 10.633s (7921.3 samples/s);\n",
      "Finished Epoch[33 of 40]: [Training] loss = 0.076296 * 84227, metric = 2.69% * 84227 10.640s (7916.1 samples/s);\n",
      "Finished Epoch[34 of 40]: [Training] loss = 0.075790 * 84227, metric = 2.68% * 84227 10.449s (8060.8 samples/s);\n",
      "Finished Epoch[35 of 40]: [Training] loss = 0.075670 * 84227, metric = 2.67% * 84227 10.582s (7959.5 samples/s);\n",
      "Finished Epoch[36 of 40]: [Training] loss = 0.075337 * 84227, metric = 2.65% * 84227 10.388s (8108.1 samples/s);\n",
      "Finished Epoch[37 of 40]: [Training] loss = 0.075630 * 84227, metric = 2.59% * 84227 10.572s (7967.0 samples/s);\n",
      "Finished Epoch[38 of 40]: [Training] loss = 0.075920 * 84227, metric = 2.66% * 84227 10.680s (7886.4 samples/s);\n",
      "Finished Epoch[39 of 40]: [Training] loss = 0.075000 * 84227, metric = 2.64% * 84227 10.493s (8027.0 samples/s);\n",
      "Finished Epoch[40 of 40]: [Training] loss = 0.076076 * 84227, metric = 2.73% * 84227 10.908s (7721.6 samples/s);\n",
      "\n",
      "Final Results: Minibatch[1-43]: errs = 2.5% * 21057\n",
      "\n"
     ]
    },
    {
     "data": {
      "image/png": "[encoded data removed]",
      "text/plain": [
       "<matplotlib.figure.Figure at 0x1c9d5e24668>"
      ]
     },
     "metadata": {},
     "output_type": "display_data"
    },
    {
     "data": {
      "image/png": "[encoded data removed]",
      "text/plain": [
       "<matplotlib.figure.Figure at 0x1c9816d3940>"
      ]
     },
     "metadata": {},
     "output_type": "display_data"
    },
    {
     "data": {
      "text/plain": [
       "[Output('Softmax5533_Output_0', [#], [2]),\n",
       " Output('Output', [#], [2]),\n",
       " Output('CF2', [#], [2 x 1 x 1]),\n",
       " Output('CF1', [#], [32 x 1 x 1]),\n",
       " Output('MP32', [#], [32 x 4 x 4]),\n",
       " Output('BN32', [#], [32 x 9 x 9]),\n",
       " Output('C3', [#], [32 x 9 x 9]),\n",
       " Output('BN13', [#], [32 x 9 x 9]),\n",
       " Output('C3', [#], [32 x 9 x 9]),\n",
       " Output('MP22', [#], [16 x 9 x 9]),\n",
       " Output('BN22', [#], [16 x 18 x 18]),\n",
       " Output('C2', [#], [16 x 18 x 18]),\n",
       " Output('BN12', [#], [16 x 18 x 18]),\n",
       " Output('C2', [#], [16 x 18 x 18]),\n",
       " Output('MP1', [#], [8 x 18 x 18]),\n",
       " Output('BN1', [#], [8 x 36 x 36]),\n",
       " Output('C1', [#], [8 x 36 x 36]),\n",
       " Output('features', [#], [3 x 36 x 36])]"
      ]
     },
     "execution_count": 13,
     "metadata": {},
     "output_type": "execute_result"
    }
   ],
   "source": [
    "pred_vgg = train_and_evaluate(reader_train, \n",
    "                              reader_test, \n",
    "                              max_epochs=40,\n",
    "                              model_func=create_vgg9_model)\n",
    "\n",
    "C.logging.get_node_outputs(pred_vgg)"
   ]
  },
  {
   "cell_type": "code",
   "execution_count": 14,
   "metadata": {},
   "outputs": [
    {
     "name": "stdout",
     "output_type": "stream",
     "text": [
      "Training 371882 parameters in 104 parameter tensors.\n",
      "\n",
      "Learning rate per sample: 0.01\n",
      "Momentum per minibatch: 0.9\n",
      "Finished Epoch[1 of 40]: [Training] loss = 0.432772 * 84227, metric = 19.17% * 84227 39.775s (2117.6 samples/s);\n",
      "Finished Epoch[2 of 40]: [Training] loss = 0.275839 * 84227, metric = 11.88% * 84227 38.292s (2199.6 samples/s);\n",
      "Finished Epoch[3 of 40]: [Training] loss = 0.218874 * 84227, metric = 9.03% * 84227 38.237s (2202.8 samples/s);\n",
      "Finished Epoch[4 of 40]: [Training] loss = 0.196844 * 84227, metric = 7.81% * 84227 38.277s (2200.5 samples/s);\n",
      "Finished Epoch[5 of 40]: [Training] loss = 0.183360 * 84227, metric = 7.20% * 84227 38.205s (2204.6 samples/s);\n",
      "Learning rate per sample: 0.003\n",
      "Finished Epoch[6 of 40]: [Training] loss = 0.131465 * 84227, metric = 4.98% * 84227 38.191s (2205.4 samples/s);\n",
      "Finished Epoch[7 of 40]: [Training] loss = 0.123823 * 84227, metric = 4.68% * 84227 38.118s (2209.6 samples/s);\n",
      "Finished Epoch[8 of 40]: [Training] loss = 0.124403 * 84227, metric = 4.63% * 84227 38.260s (2201.4 samples/s);\n",
      "Finished Epoch[9 of 40]: [Training] loss = 0.121678 * 84227, metric = 4.55% * 84227 38.238s (2202.7 samples/s);\n",
      "Finished Epoch[10 of 40]: [Training] loss = 0.118227 * 84227, metric = 4.42% * 84227 38.269s (2200.9 samples/s);\n",
      "Learning rate per sample: 0.001\n",
      "Finished Epoch[11 of 40]: [Training] loss = 0.089986 * 84227, metric = 3.26% * 84227 38.171s (2206.6 samples/s);\n",
      "Finished Epoch[12 of 40]: [Training] loss = 0.085959 * 84227, metric = 3.11% * 84227 38.253s (2201.8 samples/s);\n",
      "Finished Epoch[13 of 40]: [Training] loss = 0.085376 * 84227, metric = 3.07% * 84227 38.298s (2199.3 samples/s);\n",
      "Finished Epoch[14 of 40]: [Training] loss = 0.084381 * 84227, metric = 3.02% * 84227 38.568s (2183.9 samples/s);\n",
      "Finished Epoch[15 of 40]: [Training] loss = 0.082652 * 84227, metric = 2.96% * 84227 38.154s (2207.6 samples/s);\n",
      "Learning rate per sample: 0.0003\n",
      "Finished Epoch[16 of 40]: [Training] loss = 0.065796 * 84227, metric = 2.27% * 84227 38.402s (2193.3 samples/s);\n",
      "Finished Epoch[17 of 40]: [Training] loss = 0.062909 * 84227, metric = 2.20% * 84227 38.607s (2181.7 samples/s);\n",
      "Finished Epoch[18 of 40]: [Training] loss = 0.060706 * 84227, metric = 2.11% * 84227 38.719s (2175.3 samples/s);\n",
      "Finished Epoch[19 of 40]: [Training] loss = 0.061077 * 84227, metric = 2.14% * 84227 38.540s (2185.4 samples/s);\n",
      "Finished Epoch[20 of 40]: [Training] loss = 0.057440 * 84227, metric = 2.05% * 84227 38.511s (2187.1 samples/s);\n",
      "Learning rate per sample: 0.0001\n",
      "Finished Epoch[21 of 40]: [Training] loss = 0.051300 * 84227, metric = 1.81% * 84227 38.309s (2198.6 samples/s);\n",
      "Finished Epoch[22 of 40]: [Training] loss = 0.049799 * 84227, metric = 1.70% * 84227 38.201s (2204.8 samples/s);\n",
      "Finished Epoch[23 of 40]: [Training] loss = 0.047106 * 84227, metric = 1.60% * 84227 38.295s (2199.4 samples/s);\n",
      "Finished Epoch[24 of 40]: [Training] loss = 0.047619 * 84227, metric = 1.65% * 84227 38.285s (2200.0 samples/s);\n",
      "Finished Epoch[25 of 40]: [Training] loss = 0.047772 * 84227, metric = 1.64% * 84227 38.310s (2198.6 samples/s);\n",
      "Learning rate per sample: 3e-05\n",
      "Finished Epoch[26 of 40]: [Training] loss = 0.042882 * 84227, metric = 1.46% * 84227 38.222s (2203.6 samples/s);\n",
      "Finished Epoch[27 of 40]: [Training] loss = 0.042946 * 84227, metric = 1.48% * 84227 38.188s (2205.6 samples/s);\n",
      "Finished Epoch[28 of 40]: [Training] loss = 0.041603 * 84227, metric = 1.39% * 84227 38.335s (2197.1 samples/s);\n",
      "Finished Epoch[29 of 40]: [Training] loss = 0.042287 * 84227, metric = 1.47% * 84227 38.236s (2202.8 samples/s);\n",
      "Finished Epoch[30 of 40]: [Training] loss = 0.040713 * 84227, metric = 1.42% * 84227 38.203s (2204.7 samples/s);\n",
      "Learning rate per sample: 1e-05\n",
      "Finished Epoch[31 of 40]: [Training] loss = 0.039921 * 84227, metric = 1.35% * 84227 38.293s (2199.5 samples/s);\n",
      "Finished Epoch[32 of 40]: [Training] loss = 0.039801 * 84227, metric = 1.33% * 84227 38.252s (2201.9 samples/s);\n",
      "Finished Epoch[33 of 40]: [Training] loss = 0.040023 * 84227, metric = 1.37% * 84227 38.229s (2203.2 samples/s);\n",
      "Finished Epoch[34 of 40]: [Training] loss = 0.039341 * 84227, metric = 1.35% * 84227 38.259s (2201.5 samples/s);\n",
      "Finished Epoch[35 of 40]: [Training] loss = 0.039794 * 84227, metric = 1.36% * 84227 38.434s (2191.5 samples/s);\n",
      "Finished Epoch[36 of 40]: [Training] loss = 0.039091 * 84227, metric = 1.33% * 84227 38.340s (2196.8 samples/s);\n",
      "Finished Epoch[37 of 40]: [Training] loss = 0.039396 * 84227, metric = 1.39% * 84227 38.190s (2205.5 samples/s);\n",
      "Finished Epoch[38 of 40]: [Training] loss = 0.038329 * 84227, metric = 1.31% * 84227 38.277s (2200.5 samples/s);\n",
      "Finished Epoch[39 of 40]: [Training] loss = 0.037936 * 84227, metric = 1.28% * 84227 38.193s (2205.3 samples/s);\n",
      "Finished Epoch[40 of 40]: [Training] loss = 0.037778 * 84227, metric = 1.28% * 84227 38.334s (2197.2 samples/s);\n",
      "\n",
      "Final Results: Minibatch[1-43]: errs = 1.5% * 21057\n",
      "\n"
     ]
    },
    {
     "data": {
      "image/png": "[encoded data removed]",
      "text/plain": [
       "<matplotlib.figure.Figure at 0x1c9d7018fd0>"
      ]
     },
     "metadata": {},
     "output_type": "display_data"
    },
    {
     "data": {
      "image/png": "[encoded data removed]",
      "text/plain": [
       "<matplotlib.figure.Figure at 0x1c992a936d8>"
      ]
     },
     "metadata": {},
     "output_type": "display_data"
    }
   ],
   "source": [
    "pred_resnet = train_and_evaluate(reader_train,\n",
    "                                 reader_test,\n",
    "                                 max_epochs=40,\n",
    "                                 model_func=create_resnet_model)"
   ]
  },
  {
   "cell_type": "code",
   "execution_count": 15,
   "metadata": {},
   "outputs": [],
   "source": [
    "pred.save(\"Cars_CNN.model\")\n",
    "pred_basic_model_bn.save(\"Cars_BCNN.model\")\n",
    "pred_vgg.save(\"Cars_VGG.model\")\n",
    "pred_resnet.save(\"Cars_Resnet.model\")"
   ]
  },
  {
   "cell_type": "code",
   "execution_count": 16,
   "metadata": {
    "collapsed": true
   },
   "outputs": [],
   "source": [
    "pred_vgg = C.load_model(\"Cars_VGG.model\")\n",
    "pred_resnet = C.load_model(\"Cars_Resnet.model\")"
   ]
  },
  {
   "cell_type": "code",
   "execution_count": 17,
   "metadata": {
    "collapsed": true
   },
   "outputs": [],
   "source": [
    "# kép ellenőrzés\n",
    "\n",
    "from PIL import Image as Image2\n",
    "\n",
    "def eval_single_image(loaded_model, image_path):\n",
    "    # load and format image (resize, RGB -> BGR, CHW -> HWC)\n",
    "    try:\n",
    "        img = Image2.open(image_path).convert(\"RGBA\")\n",
    "        \n",
    "        if image_path.endswith(\"png\"):\n",
    "            temp = Image2.new(\"RGBA\", img.size, (255, 255, 255))\n",
    "            temp.paste(img, img)\n",
    "            img = temp\n",
    "        resized = img.crop((img.width/2-18, img.height/2-18, img.width/2+18, img.height/2+18))\n",
    "        bgr_image = np.asarray(resized, dtype=np.float32)[..., [2, 1, 0]]\n",
    "        hwc_format = np.ascontiguousarray(np.rollaxis(bgr_image, 2))\n",
    "\n",
    "        # compute model output\n",
    "        arguments = {loaded_model.arguments[0]: [hwc_format]}\n",
    "        output = loaded_model.eval(arguments)\n",
    "\n",
    "        # return softmax probabilities\n",
    "        sm = C.softmax(output[0])\n",
    "        return sm.eval()\n",
    "    except FileNotFoundError:\n",
    "        print(\"Could not open (skipping file): \", image_path)\n",
    "        return ['None']\n",
    "        \n",
    "# Evaluates an image set using the provided model\n",
    "def eval_test_images(test_map_file, loaded_model):\n",
    "    num_images = sum(1 for line in open(test_map_file))\n",
    "        \n",
    "    print(\"Evaluating model output node '{0}' for {1} images.\".format('prediction', num_images))\n",
    "\n",
    "    pred_count = 0\n",
    "    correct_count = 0\n",
    "    np.seterr(over='raise')\n",
    "    with open(test_map_file, \"r\") as input_file:\n",
    "        for line in input_file:\n",
    "            tokens = line.rstrip().split('\\t')\n",
    "            img_file = tokens[0]\n",
    "            probs = eval_single_image(loaded_model, img_file)\n",
    "            \n",
    "            if probs[0]=='None':\n",
    "                print(\"Eval not possible: \", img_file)\n",
    "                continue\n",
    "\n",
    "            pred_count += 1\n",
    "            true_label = int(tokens[1])\n",
    "            predicted_label = np.argmax(probs)\n",
    "            if predicted_label == true_label:\n",
    "                correct_count += 1\n",
    "\n",
    "            if pred_count % 1000 == 0:\n",
    "                print(\"Processed {0} samples ({1:.2%} correct)\".format(pred_count, \n",
    "                                                                       (float(correct_count) / pred_count)))\n",
    "            if pred_count >= num_images:\n",
    "                break\n",
    "    print (\"{0} of {1} prediction were correct\".format(correct_count, pred_count))\n",
    "    return correct_count, pred_count, (float(correct_count) / pred_count)"
   ]
  },
  {
   "cell_type": "code",
   "execution_count": 18,
   "metadata": {},
   "outputs": [
    {
     "name": "stdout",
     "output_type": "stream",
     "text": [
      "Evaluating model output node 'prediction' for 21057 images.\n",
      "Processed 1000 samples (95.50% correct)\n",
      "Processed 2000 samples (96.05% correct)\n",
      "Processed 3000 samples (96.60% correct)\n",
      "Processed 4000 samples (96.70% correct)\n",
      "Processed 5000 samples (96.98% correct)\n",
      "Processed 6000 samples (96.88% correct)\n",
      "Processed 7000 samples (97.07% correct)\n",
      "Processed 8000 samples (96.91% correct)\n",
      "Processed 9000 samples (97.06% correct)\n",
      "Processed 10000 samples (97.17% correct)\n",
      "Processed 11000 samples (97.28% correct)\n",
      "Processed 12000 samples (97.32% correct)\n",
      "Processed 13000 samples (97.47% correct)\n",
      "Processed 14000 samples (97.55% correct)\n",
      "Processed 15000 samples (97.55% correct)\n",
      "Processed 16000 samples (97.57% correct)\n",
      "Processed 17000 samples (97.41% correct)\n",
      "Processed 18000 samples (97.51% correct)\n",
      "Processed 19000 samples (97.61% correct)\n",
      "Processed 20000 samples (97.59% correct)\n",
      "Processed 21000 samples (97.57% correct)\n",
      "20546 of 21057 prediction were correct\n"
     ]
    },
    {
     "data": {
      "text/plain": [
       "(20546, 21057, 0.975732535498884)"
      ]
     },
     "execution_count": 18,
     "metadata": {},
     "output_type": "execute_result"
    }
   ],
   "source": [
    "eval_test_images(os.path.join(data_path, 'car_testing.txt'), pred_vgg)"
   ]
  },
  {
   "cell_type": "code",
   "execution_count": 19,
   "metadata": {},
   "outputs": [
    {
     "name": "stdout",
     "output_type": "stream",
     "text": [
      "  CF2 (2, 125, 125)\n",
      "  CF2 (2, 125, 125)\n",
      "  CF1 (32, 125, 125)\n",
      "  MP32 (32, 128, 128)\n",
      "  BN32 (32, 256, 256)\n",
      "  C3 (32, 256, 256)\n",
      "  BN13 (32, 256, 256)\n",
      "  C3 (32, 256, 256)\n",
      "  MP22 (16, 256, 256)\n",
      "  BN22 (16, 512, 512)\n",
      "  C2 (16, 512, 512)\n",
      "  BN12 (16, 512, 512)\n",
      "  C2 (16, 512, 512)\n",
      "  MP1 (8, 512, 512)\n",
      "  BN1 (8, 1024, 1024)\n",
      "  C1 (8, 1024, 1024)\n",
      "  features (3, 1024, 1024)\n"
     ]
    }
   ],
   "source": [
    "# Clone the desired layers with fixed weights\n",
    "feature_node = C.logging.find_by_name(pred_vgg, 'features')\n",
    "last_node = C.logging.find_by_name(pred_vgg, 'CF2')\n",
    "cloned_layers = C.combine([last_node.owner]).clone(C.CloneMethod.freeze, {feature_node: C.placeholder(name='features')})\n",
    "\n",
    "image_input = C.input_variable((3,1024,1024))\n",
    "cloned_out = cloned_layers(C.element_times(1/256.0, image_input, name=\"features\"))\n",
    "z = C.layers.Dense(2, activation=None, name=\"out\") (cloned_out)\n",
    "node_outputs = C.logging.get_node_outputs(cloned_out)\n",
    "for l in node_outputs: print(\"  {0} {1}\".format(l.name, l.shape))"
   ]
  },
  {
   "cell_type": "code",
   "execution_count": 20,
   "metadata": {
    "collapsed": true
   },
   "outputs": [],
   "source": [
    "cloned_out.save(\"Cars_VGG_Big.model\")"
   ]
  },
  {
   "cell_type": "code",
   "execution_count": null,
   "metadata": {
    "collapsed": true
   },
   "outputs": [],
   "source": []
  }
 ],
 "metadata": {
  "kernelspec": {
   "display_name": "Python 3",
   "language": "python",
   "name": "python3"
  },
  "language_info": {
   "codemirror_mode": {
    "name": "ipython",
    "version": 3
   },
   "file_extension": ".py",
   "mimetype": "text/x-python",
   "name": "python",
   "nbconvert_exporter": "python",
   "pygments_lexer": "ipython3",
   "version": "3.6.1"
  }
 },
 "nbformat": 4,
 "nbformat_minor": 2
}
